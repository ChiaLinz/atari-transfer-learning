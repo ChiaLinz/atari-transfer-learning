{
  "nbformat": 4,
  "nbformat_minor": 0,
  "metadata": {
    "colab": {
      "name": "ProjectSetup_DO_THIS_FIRST.ipynb",
      "provenance": [],
      "collapsed_sections": []
    },
    "kernelspec": {
      "name": "python3",
      "display_name": "Python 3"
    },
    "language_info": {
      "name": "python"
    }
  },
  "cells": [
    {
      "cell_type": "markdown",
      "source": [
        "# CS-673 Final Project \n",
        "## Improved Bot Learning process on Atari games by using Transfer Learning\n",
        "This file is for setting up the folder structure for Project - **Improved Bot Learning process on Atari games by using Transfer Learning**.\n",
        "\n",
        "## Contributors\n",
        "- Rahul Gautham Putcha\n",
        "- Ching-Hao Sun\n",
        "- Chia-Lin Hsieh"
      ],
      "metadata": {
        "id": "eR7FiQoTkkhF"
      }
    },
    {
      "cell_type": "markdown",
      "source": [
        "#### Working on the Colab Environment (Recommended for **Training**)\n",
        "Do this for the first time only"
      ],
      "metadata": {
        "id": "YAFIHyvofHDs"
      }
    },
    {
      "cell_type": "code",
      "source": [
        "from google.colab import drive\n",
        "drive.mount('/content/drive')\n"
      ],
      "metadata": {
        "colab": {
          "base_uri": "https://localhost:8080/"
        },
        "id": "sqQjrNsudrSu",
        "outputId": "708ef727-1253-4c3b-980c-6b5ce4f92593"
      },
      "execution_count": 4,
      "outputs": [
        {
          "output_type": "stream",
          "name": "stdout",
          "text": [
            "Mounted at /content/drive\n"
          ]
        }
      ]
    },
    {
      "cell_type": "code",
      "source": [
        "cd \"My Drive\""
      ],
      "metadata": {
        "colab": {
          "base_uri": "https://localhost:8080/"
        },
        "id": "TsV-v_fueJNn",
        "outputId": "710220b8-ca72-439d-944f-12d5e2a4edef"
      },
      "execution_count": 8,
      "outputs": [
        {
          "output_type": "stream",
          "name": "stdout",
          "text": [
            "/content/drive/My Drive\n"
          ]
        }
      ]
    },
    {
      "cell_type": "code",
      "source": [
        "from os import mkdir\n",
        "import os.path\n",
        "if not os.path.isfile(\"CS677DeepLearning\"):\n",
        "  os.mkdir(\"CS677DeepLearning\")"
      ],
      "metadata": {
        "id": "6y6l7zeAeWnH"
      },
      "execution_count": 13,
      "outputs": []
    },
    {
      "cell_type": "code",
      "source": [
        "cd \"CS677DeepLearning\""
      ],
      "metadata": {
        "colab": {
          "base_uri": "https://localhost:8080/"
        },
        "id": "p3s68cUneaga",
        "outputId": "45582051-b7c6-4ef1-f876-51cc892c7534"
      },
      "execution_count": 14,
      "outputs": [
        {
          "output_type": "stream",
          "name": "stdout",
          "text": [
            "/content/drive/My Drive/CS677DeepLearning\n"
          ]
        }
      ]
    },
    {
      "cell_type": "markdown",
      "source": [
        "### Setting up the Repo: Folder Structure\n",
        "Do this for the first time only"
      ],
      "metadata": {
        "id": "Oo-LjwPTjWEC"
      }
    },
    {
      "cell_type": "code",
      "source": [
        "!git init"
      ],
      "metadata": {
        "colab": {
          "base_uri": "https://localhost:8080/"
        },
        "id": "diLLU4uPfCHD",
        "outputId": "387c99ed-90cf-42f4-dbd7-be56ea4926d8"
      },
      "execution_count": 17,
      "outputs": [
        {
          "output_type": "stream",
          "name": "stdout",
          "text": [
            "Initialized empty Git repository in /content/drive/My Drive/CS677DeepLearning/.git/\n"
          ]
        }
      ]
    },
    {
      "cell_type": "code",
      "source": [
        "!git clone https://github.com/RPG-coder/atari-transfer-learning"
      ],
      "metadata": {
        "colab": {
          "base_uri": "https://localhost:8080/"
        },
        "id": "4NPRs__kfWKY",
        "outputId": "a20afc71-eb1c-4492-8f95-2467019cf6bb"
      },
      "execution_count": 19,
      "outputs": [
        {
          "output_type": "stream",
          "name": "stdout",
          "text": [
            "Cloning into 'atari-transfer-learning'...\n",
            "remote: Enumerating objects: 15, done.\u001b[K\n",
            "remote: Counting objects: 100% (15/15), done.\u001b[K\n",
            "remote: Compressing objects: 100% (15/15), done.\u001b[K\n",
            "remote: Total 15 (delta 2), reused 6 (delta 0), pack-reused 0\u001b[K\n",
            "Unpacking objects: 100% (15/15), done.\n"
          ]
        }
      ]
    },
    {
      "cell_type": "code",
      "source": [
        "cd atari-transfer-learning/"
      ],
      "metadata": {
        "colab": {
          "base_uri": "https://localhost:8080/"
        },
        "id": "I_fWdQYPjIL7",
        "outputId": "4f738533-5f16-4d75-e3ae-d1d24ddddb41"
      },
      "execution_count": 21,
      "outputs": [
        {
          "output_type": "stream",
          "name": "stdout",
          "text": [
            "/content/drive/My Drive/CS677DeepLearning/atari-transfer-learning\n"
          ]
        }
      ]
    },
    {
      "cell_type": "markdown",
      "source": [
        "Your project structure is now ready\n",
        "## Lets proceed to the next step.\n",
        "Now Open /content/drive/MyDrive/CS677DeepLearning/atari-transfer-learning/CS673-FinalProject.ipynb\n",
        "\n",
        "in side Google Colab or Jupyter."
      ],
      "metadata": {
        "id": "hDfCo-lTj_A2"
      }
    },
    {
      "cell_type": "code",
      "source": [
        ""
      ],
      "metadata": {
        "id": "rZE7c9EWlUy6"
      },
      "execution_count": null,
      "outputs": []
    }
  ]
}